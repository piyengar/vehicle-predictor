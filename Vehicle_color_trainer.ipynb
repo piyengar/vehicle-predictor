{
  "nbformat": 4,
  "nbformat_minor": 0,
  "metadata": {
    "colab": {
      "name": "Vehicle_color_trainer.ipynb",
      "provenance": [],
      "authorship_tag": "ABX9TyNp/MnjcrPH3pL4/dArLBGA",
      "include_colab_link": true
    },
    "kernelspec": {
      "name": "python3",
      "display_name": "Python 3"
    },
    "language_info": {
      "name": "python"
    }
  },
  "cells": [
    {
      "cell_type": "markdown",
      "metadata": {
        "id": "view-in-github",
        "colab_type": "text"
      },
      "source": [
        "<a href=\"https://colab.research.google.com/github/piyengar/vehicle-predictor/blob/master/Vehicle_color_trainer.ipynb\" target=\"_parent\"><img src=\"https://colab.research.google.com/assets/colab-badge.svg\" alt=\"Open In Colab\"/></a>"
      ]
    },
    {
      "cell_type": "code",
      "metadata": {
        "id": "aRkukncpGIsZ"
      },
      "source": [
        "%%capture\n",
        "! pip install pytorch-lightning\n",
        "! pip install pytorch-lightning-bolts\n",
        "! pip install ipywidgets\n",
        "! pip install torchmetrics"
      ],
      "execution_count": 1,
      "outputs": []
    },
    {
      "cell_type": "code",
      "metadata": {
        "id": "rG-_w0uUGUqd"
      },
      "source": [
        "import os\n",
        "\n",
        "import torch\n",
        "import numpy as np\n",
        "import pandas as pd \n",
        "import xml.etree.ElementTree as et \n",
        "import pytorch_lightning as pl\n",
        "import matplotlib.pyplot as plt\n",
        "from typing import Optional, List, Any\n",
        "from torch import nn\n",
        "from torch.nn import functional as F\n",
        "from torch.utils.data import DataLoader, Dataset, random_split, ConcatDataset\n",
        "from torchvision import transforms\n",
        "from torchvision.models import resnet18, squeezenet1_1, resnet50, resnet152\n",
        "from pytorch_lightning.callbacks import (BasePredictionWriter, \n",
        "                                         LearningRateMonitor, \n",
        "                                         ModelCheckpoint, \n",
        "                                         EarlyStopping,\n",
        "                                         )\n",
        "# from pl_bolts.datasets import DummyDataset\n",
        "from PIL import Image\n",
        "from ipywidgets import interact\n",
        "from IPython.display import Image as ipImage\n",
        "from torchmetrics import ConfusionMatrix, Accuracy, Precision, Recall, F1\n",
        "from torchmetrics.functional import accuracy, confusion_matrix, f1, precision, recall\n",
        "from sklearn.metrics import ConfusionMatrixDisplay\n"
      ],
      "execution_count": 2,
      "outputs": []
    },
    {
      "cell_type": "code",
      "metadata": {
        "id": "Y0Z67aLzGgB_"
      },
      "source": [
        "# Prediction Params -- one of : VRIC, Cars196, VehicleID, BoxCars116k, CompCars, Veri, Combined\n",
        "train_dataset_name = 'Combined'\n",
        "# Path constants\n",
        "STORAGE_ROOT='/content/drive'\n",
        "CHECKPOINT_ROOT=os.path.join(STORAGE_ROOT, 'MyDrive/Gatech/CARZAM/checkpoints/color', train_dataset_name)\n",
        "PREDICTION_ROOT=os.path.join(STORAGE_ROOT, 'MyDrive/Gatech/CARZAM/predictions/color', train_dataset_name)\n",
        "DATASET_ROOT=os.path.join(STORAGE_ROOT, 'MyDrive/Gatech/CARZAM/Datasets')\n",
        "GITHUB_PAT_PATH=os.path.join(STORAGE_ROOT, 'MyDrive/Gatech/github_pat_colab.txt')\n",
        "\n",
        "with open(GITHUB_PAT_PATH) as reader:\n",
        "    GITHUB_PAT = reader.readline()\n"
      ],
      "execution_count": 21,
      "outputs": []
    },
    {
      "cell_type": "code",
      "metadata": {
        "colab": {
          "base_uri": "https://localhost:8080/"
        },
        "id": "o2LEmL4hGhea",
        "outputId": "264a2fab-1501-409f-e52a-594299d70e18"
      },
      "source": [
        "from google.colab import drive\n",
        "drive.mount(STORAGE_ROOT)\n",
        "!mkdir -p \"{CHECKPOINT_ROOT}\"\n",
        "!mkdir -p \"{PREDICTION_ROOT}\""
      ],
      "execution_count": 4,
      "outputs": [
        {
          "output_type": "stream",
          "text": [
            "Mounted at /content/drive\n"
          ],
          "name": "stdout"
        }
      ]
    },
    {
      "cell_type": "code",
      "metadata": {
        "colab": {
          "base_uri": "https://localhost:8080/"
        },
        "id": "3kjW3B5iGml7",
        "outputId": "f08c720c-32cb-4a9d-b4c1-a6b2d8be3600"
      },
      "source": [
        "!git clone \"https://{GITHUB_PAT}@github.com/piyengar/vehicle-predictor.git\" ./code"
      ],
      "execution_count": 23,
      "outputs": [
        {
          "output_type": "stream",
          "text": [
            "Cloning into './code'...\n",
            "remote: Enumerating objects: 31, done.\u001b[K\n",
            "remote: Counting objects: 100% (31/31), done.\u001b[K\n",
            "remote: Compressing objects: 100% (24/24), done.\u001b[K\n",
            "remote: Total 31 (delta 12), reused 14 (delta 5), pack-reused 0\u001b[K\n",
            "Unpacking objects: 100% (31/31), done.\n"
          ],
          "name": "stdout"
        }
      ]
    },
    {
      "cell_type": "code",
      "metadata": {
        "id": "D56zfDySJbb7"
      },
      "source": [
        ""
      ],
      "execution_count": null,
      "outputs": []
    }
  ]
}