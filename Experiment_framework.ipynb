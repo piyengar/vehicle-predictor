{
  "cells": [
    {
      "cell_type": "markdown",
      "metadata": {
        "id": "i7XbLCXGkll9"
      },
      "source": [
        "# Experiment framework\n",
        "This notebook gives an example of how the framework can be used to train and evaluate models on standard vehicle identification datasets. The framework can be invoked via the CLI or using python classes. \n",
        "\n",
        "This notebook shows how the experiments can be run using the CLI\n"
      ]
    },
    {
      "cell_type": "markdown",
      "metadata": {
        "id": "2LODD6w9ixlT"
      },
      "source": [
        "## Colab specific\n",
        "Modify and run these cells to prepare the colab environment for the project\n",
        "- Setup integration with google drive\n",
        "    - Needs these paths: mount point, Dataset storage path, checkpoint storage path, prediction storage path\n",
        "- Setup content folder as git repo and pull codebase from github\n",
        "    - For now we can manually set it up by using a [PAT](https://docs.github.com/en/github/authenticating-to-github/keeping-your-account-and-data-secure/creating-a-personal-access-token). We read this PAT from a location on google drive\n"
      ]
    },
    {
      "cell_type": "markdown",
      "metadata": {
        "id": "NyJP0vI_IBzH"
      },
      "source": [
        "### The project expects a few folders in the root directory. Since the colab environment is transient, these folders need to be recreated everytime a fresh runtime is started. The below cell creates links to the source folder present in google drive:\n",
        "- checkpoints  (For storing logs and model checkpoints)\n",
        "- predictions (For storing the predictions while evaluating)\n",
        "- carzam (For downloading the compressed dataset files, used in the setup_dataset method)\n",
        "- dataset (NOT CREATED HERE, Running setup_dataset scripts creates this folder and copies the extracted dataset files)"
      ]
    },
    {
      "cell_type": "code",
      "execution_count": null,
      "metadata": {
        "id": "o2LEmL4hGhea"
      },
      "outputs": [],
      "source": [
        "import os\n",
        "# Path constants\n",
        "STORAGE_ROOT='/content/drive'                                       # google drive mount point\n",
        "CARZAM_ROOT= os.path.join(STORAGE_ROOT, 'MyDrive/Gatech/CARZAM')    # Project root within drive \n",
        "CHECKPOINT_ROOT=os.path.join(CARZAM_ROOT, 'checkpoints')            # Experiment root within project\n",
        "PREDICTION_ROOT=os.path.join(CARZAM_ROOT, 'predictions')\n",
        "DATASET_ROOT=os.path.join(CARZAM_ROOT, 'Datasets')"
      ]
    },
    {
      "cell_type": "code",
      "execution_count": null,
      "metadata": {
        "colab": {
          "base_uri": "https://localhost:8080/"
        },
        "id": "Y5yV1Fu8H2Dn",
        "outputId": "e7439715-e60b-441d-a94c-28daae65e63d"
      },
      "outputs": [],
      "source": [
        "from google.colab import drive\n",
        "drive.mount(STORAGE_ROOT)\n",
        "!mkdir -p \"{CHECKPOINT_ROOT}\"\n",
        "!mkdir -p \"{PREDICTION_ROOT}\"\n",
        "!ln -s \"{CHECKPOINT_ROOT}\" \"checkpoints\"\n",
        "!ln -s \"{PREDICTION_ROOT}\" \"predictions\"\n",
        "!ln -s \"{CARZAM_ROOT}\" \"carzam\"\n"
      ]
    },
    {
      "cell_type": "markdown",
      "metadata": {
        "id": "KqkktIOnqJW9"
      },
      "source": [
        "### Setup up codebase from github\n",
        "Download the code from github using a access token stored on google drive. The access token path needs to be changed as per your google drive structure"
      ]
    },
    {
      "cell_type": "code",
      "execution_count": null,
      "metadata": {
        "id": "Y0Z67aLzGgB_"
      },
      "outputs": [],
      "source": [
        "\n",
        "GITHUB_PAT_PATH=os.path.join(STORAGE_ROOT, 'MyDrive/Gatech/github_pat_colab.txt')\n",
        "\n",
        "with open(GITHUB_PAT_PATH) as reader:\n",
        "    GITHUB_PAT = reader.readline()\n"
      ]
    },
    {
      "cell_type": "markdown",
      "metadata": {
        "id": "kkfMSCSINhCn"
      },
      "source": [
        "Init the current folder as a git repo and link it to remote github repo before pulling. This allows us to clone into a folder with existing files. We also set the remote as upstream to allow changes to be done from colab to the project files."
      ]
    },
    {
      "cell_type": "code",
      "execution_count": null,
      "metadata": {
        "colab": {
          "base_uri": "https://localhost:8080/"
        },
        "id": "31_9TaKlrEXP",
        "outputId": "6114d88b-ed7b-40b7-d9cc-ace8ebe27b85"
      },
      "outputs": [],
      "source": [
        "!git init\n",
        "!git remote add origin \"https://{GITHUB_PAT}@github.com/piyengar/vehicle-predictor.git\" \n",
        "!git pull origin master\n",
        "!git branch --set-upstream-to=origin/master master"
      ]
    },
    {
      "cell_type": "markdown",
      "metadata": {},
      "source": [
        "## Install project\n",
        "This will add the project and packages to the python env"
      ]
    },
    {
      "cell_type": "code",
      "execution_count": null,
      "metadata": {
        "id": "S63FIRgN5csf"
      },
      "outputs": [],
      "source": [
        "# %%capture --no-stderr\n",
        "!pip install -e ."
      ]
    },
    {
      "cell_type": "markdown",
      "metadata": {},
      "source": [
        "## Define dataset location \n"
      ]
    },
    {
      "cell_type": "code",
      "execution_count": null,
      "metadata": {},
      "outputs": [],
      "source": [
        "DATASET_ROOT='./dataset'\n",
        "# Set a name for the experiment, This will be used to create a folder for storing the logs, predictions and model checkpoints\n",
        "EXPERIMENT_NAME= 'brand'\n",
        "# Path where the experiment script exists\n",
        "EXPERIMENT_SCRIPT= \"experiments/brand/train_brand.py\""
      ]
    },
    {
      "cell_type": "markdown",
      "metadata": {
        "id": "iWtBQUY8tNZn"
      },
      "source": [
        "### Download and setup datasets\n",
        "The below method downloads and extracts the datasets into the dataset folder in the project root. The table also gives an estimate of the space each dataset takes\n",
        "\n",
        "| Dataset         |  GB |\n",
        "|-----------------|----:|\n",
        "| VeRi_with_plate | 1.1 |\n",
        "| CompCars        | 2.5 |\n",
        "| Cars196         | 1.9 |\n",
        "| BoxCars116k     | 9.2 |"
      ]
    },
    {
      "cell_type": "markdown",
      "metadata": {
        "id": "BkivVeekwjRu"
      },
      "source": [
        "### CompCars Dataset setup"
      ]
    },
    {
      "cell_type": "code",
      "execution_count": null,
      "metadata": {
        "id": "LBGH7TeoDzEe"
      },
      "outputs": [],
      "source": [
        "%%capture --no-stderr\n",
        "!python setup_dataset.py download -n COMP_CARS -s gdrive -d ./dataset_source\n",
        "!python setup_dataset.py setup -n COMP_CARS -s ./dataset_source -d {DATASET_ROOT}"
      ]
    },
    {
      "cell_type": "markdown",
      "metadata": {
        "id": "yRRLxI-pE-Zp"
      },
      "source": [
        "### BoxCars116k dataset Setup"
      ]
    },
    {
      "cell_type": "code",
      "execution_count": null,
      "metadata": {
        "id": "yH3clmBIE-Zy"
      },
      "outputs": [],
      "source": [
        "%%capture --no-stderr\n",
        "!python setup_dataset.py download -n BOXCARS116K -s gdrive -d ./dataset_source\n",
        "!python setup_dataset.py setup -n BOXCARS116K -s ./dataset_source -d {DATASET_ROOT}"
      ]
    },
    {
      "cell_type": "markdown",
      "metadata": {
        "id": "Mn55y9MYEiD_"
      },
      "source": [
        "### Cars196 dataset Setup"
      ]
    },
    {
      "cell_type": "code",
      "execution_count": null,
      "metadata": {
        "id": "bzzsi_7hEiEA"
      },
      "outputs": [],
      "source": [
        "# %%capture --no-stderr\n",
        "!python setup_dataset.py download -n CARS196 -s gdrive -d ./dataset_source\n",
        "!python setup_dataset.py setup -n CARS196 -s ./dataset_source -d {DATASET_ROOT}"
      ]
    },
    {
      "cell_type": "markdown",
      "metadata": {
        "id": "qV2rQCdRwe1N"
      },
      "source": [
        "### VehicleID Dataset setup"
      ]
    },
    {
      "cell_type": "code",
      "execution_count": null,
      "metadata": {
        "id": "9_Y8v-A5wZxg"
      },
      "outputs": [],
      "source": [
        "%%capture --no-stderr\n",
        "!python setup_dataset.py download -n VEHICLE_ID -s gdrive -d ./dataset_source\n",
        "!python setup_dataset.py setup -n VEHICLE_ID -s ./dataset_source -d {DATASET_ROOT}"
      ]
    },
    {
      "cell_type": "markdown",
      "metadata": {
        "id": "0ksgw1oVAt_4"
      },
      "source": [
        "## Training"
      ]
    },
    {
      "cell_type": "markdown",
      "metadata": {
        "id": "kqublLfcxXNY"
      },
      "source": [
        "### Training params\n",
        "Change the training hyper params as required"
      ]
    },
    {
      "cell_type": "code",
      "execution_count": null,
      "metadata": {
        "id": "D56zfDySJbb7"
      },
      "outputs": [],
      "source": [
        "# one of : VEHICLE_ID, BOXCARS116K, CARS196, COMBINED\n",
        "# train_dataset_type = 'CARS196'\n",
        "# train_dataset_type = 'BOXCARS116K'\n",
        "train_dataset_type = 'VEHICLE_ID'\n",
        "# train_dataset_type = 'COMBINED'\n",
        "\n",
        "# Learning rate/eta0\n",
        "lr=4e-2\n",
        "lr2=1e-5 # squeezenet \n",
        "lr_step=1\n",
        "lr_step_factor=0.9\n",
        "\n",
        "#Early stop patience\n",
        "patience = 4\n",
        "\n",
        "batch_size=128\n",
        "max_epochs=1\n",
        "\n",
        "# \"resnet18\",\n",
        "# \"resnet50\",\n",
        "# \"resnet152\",\n",
        "# \"mobilenetv3-small\",\n",
        "# \"efficientnet-b0\",\n",
        "# \"squeezenet\",\n",
        "model_arch=\"efficientnet-b0\"\n",
        "\n",
        "# development\n",
        "is_dev_run=False\n",
        "\n",
        "# The number of gpus to use for training. The below line sets it to the num of available gpus\n",
        "num_gpus = -1\n",
        "num_dataloader_workers = 2"
      ]
    },
    {
      "cell_type": "markdown",
      "metadata": {
        "id": "Qn-NHRqwd8dm"
      },
      "source": [
        "### Dataset statistics\n",
        "Prints out the class distribution statistics for the train dataset"
      ]
    },
    {
      "cell_type": "code",
      "execution_count": null,
      "metadata": {
        "colab": {
          "base_uri": "https://localhost:8080/"
        },
        "id": "MxYNvBqtFiPe",
        "outputId": "e136c46d-7494-4b5b-8c95-cf5da057eda7"
      },
      "outputs": [],
      "source": [
        "! python {EXPERIMENT_SCRIPT} train_stats test_stats --train_dataset CARS196 --test_dataset CARS196"
      ]
    },
    {
      "cell_type": "markdown",
      "metadata": {
        "id": "MO-kXOa22LOm"
      },
      "source": [
        "### Tune Learning Rate\n",
        "Helps us find an approximate learning rate for training by running heuristics"
      ]
    },
    {
      "cell_type": "code",
      "execution_count": null,
      "metadata": {},
      "outputs": [],
      "source": [
        "! python experiments/brand/train_brand.py tune --train_dataset CARS196 --model_arch {model_arch}"
      ]
    },
    {
      "cell_type": "markdown",
      "metadata": {
        "id": "ubvW3LGSupmt"
      },
      "source": [
        "---\n",
        "## Train\n",
        "Train the model defined in the experiment using the \"brand\" experiment as an example"
      ]
    },
    {
      "cell_type": "code",
      "execution_count": null,
      "metadata": {
        "colab": {
          "base_uri": "https://localhost:8080/"
        },
        "id": "-yT8_rj00w1-",
        "outputId": "970996ef-a455-4d61-b13a-b2b2d82cf1c4"
      },
      "outputs": [],
      "source": [
        "! python {EXPERIMENT_SCRIPT} train \\\n",
        "    --model_arch \"efficientnet-b0\" \\\n",
        "    --max_epochs {max_epochs} \\\n",
        "    --gpus -1 \\\n",
        "    --train_dataset VEHICLE_ID \\\n",
        "    --data_dir {DATASET_ROOT}"
      ]
    },
    {
      "cell_type": "markdown",
      "metadata": {
        "id": "FuRYlMvVv3Q-"
      },
      "source": [
        "---\n",
        "## Visualize\n",
        "The logs will be stored in \\<checkpoints>/\\<EXPERIMENT_NAME>/lightning_logs/*"
      ]
    },
    {
      "cell_type": "code",
      "execution_count": null,
      "metadata": {
        "id": "bgmkxSSqv6tk"
      },
      "outputs": [],
      "source": [
        "# Start tensorboard.\n",
        "%load_ext tensorboard\n",
        "%tensorboard --logdir checkpoints/{EXPERIMENT_NAME}/lightning_logs/"
      ]
    },
    {
      "cell_type": "markdown",
      "metadata": {
        "id": "iEksf22i7x3K"
      },
      "source": [
        "## Evaluate Predictions\n",
        "We run evaluations in two stages. First the predictions are stored in an output file. Then, the prediction files are used to compute the metrics. This gives us the flexibility to checkpoint our progress as some of them might take long even with GPUs and might get aborted due to environment constraints."
      ]
    },
    {
      "cell_type": "markdown",
      "metadata": {
        "id": "H8NDbiea7yqv"
      },
      "source": [
        "### Predict\n",
        "Runs predictions on the dataset's test data and saves it in the prediction folder. The get_conf_data method generates the persistence path and model path based on input params in a deterministic fashion\n",
        "\n",
        "The prediction loads the model from the provided \\*.ckpt file .\n",
        "\n",
        "The predictions are stored into the file provided by the `--prediction_file_name` arg or  \\<predictions\\>/\\<EXPERIMENT_NAME>/\\<test_dataset>\\_\\<model_checkpoint_file>\\_\\<time.time()>.txt\n",
        "\n",
        "Note down the prediction file path being printed and use it in the next step. \n",
        "\n",
        "`TIP: you can call both the predict and evaluate commands in a single step and skip providing the prediction file arg. The prediction file will still be saved in the file path mentioned above`"
      ]
    },
    {
      "cell_type": "code",
      "execution_count": null,
      "metadata": {
        "colab": {
          "base_uri": "https://localhost:8080/"
        },
        "id": "lp6WQ2vT0ECc",
        "outputId": "7b4abfda-4441-477a-b621-989f5d3f3ef7"
      },
      "outputs": [],
      "source": [
        "! python {EXPERIMENT_SCRIPT} predict --model_arch \"efficientnet-b0\" \\\n",
        "    --gpus -1 --test_dataset VEHICLE_ID \\\n",
        "    --model_checkpoint_file \"checkpoints/brand/lightning_logs/version_13/checkpoints/epoch=0-step=738.ckpt\""
      ]
    },
    {
      "cell_type": "markdown",
      "metadata": {
        "id": "km7g_p7d726O"
      },
      "source": [
        "### Evaluate\n",
        "Evaluates various metrics from stored prediction files and stores it in files. \n"
      ]
    },
    {
      "cell_type": "code",
      "execution_count": null,
      "metadata": {
        "id": "3GkdRgLe74Hf"
      },
      "outputs": [],
      "source": [
        "! python {EXPERIMENT_SCRIPT} evaluate \\\n",
        "    --test_dataset VEHICLE_ID \\\n",
        "    --prediction_file_path \"predictions/brand/prediction_file.txt\""
      ]
    }
  ],
  "metadata": {
    "accelerator": "GPU",
    "colab": {
      "collapsed_sections": [
        "Bi6-f69y8ljb",
        "wpQni_3IVoM9",
        "mwdjjV56W5ay",
        "0mAggVQf8zlY",
        "V0ZrZBOEywld",
        "L-Q-zDY_vWWq",
        "d19TrjrSo--s",
        "Flyi--SpvsJN"
      ],
      "name": "Experiment_framework.ipynb",
      "provenance": []
    },
    "interpreter": {
      "hash": "a7d86a09c064b5c4b19f4874f0bf2cbb84d6cd074d919219f9cbe65e1ae0789d"
    },
    "kernelspec": {
      "display_name": "Python 3.8.8 64-bit ('litmus-cars': conda)",
      "name": "python3"
    },
    "language_info": {
      "codemirror_mode": {
        "name": "ipython",
        "version": 3
      },
      "file_extension": ".py",
      "mimetype": "text/x-python",
      "name": "python",
      "nbconvert_exporter": "python",
      "pygments_lexer": "ipython3",
      "version": "3.8.12"
    },
    "widgets": {
      "application/vnd.jupyter.widget-state+json": {
        "0c7056944087454e89f2d3106f6afe50": {
          "model_module": "@jupyter-widgets/controls",
          "model_module_version": "1.5.0",
          "model_name": "ProgressStyleModel",
          "state": {
            "_model_module": "@jupyter-widgets/controls",
            "_model_module_version": "1.5.0",
            "_model_name": "ProgressStyleModel",
            "_view_count": null,
            "_view_module": "@jupyter-widgets/base",
            "_view_module_version": "1.2.0",
            "_view_name": "StyleView",
            "bar_color": null,
            "description_width": ""
          }
        },
        "155070542b904bf4b1aea4ee4888bfa0": {
          "model_module": "@jupyter-widgets/base",
          "model_module_version": "1.2.0",
          "model_name": "LayoutModel",
          "state": {
            "_model_module": "@jupyter-widgets/base",
            "_model_module_version": "1.2.0",
            "_model_name": "LayoutModel",
            "_view_count": null,
            "_view_module": "@jupyter-widgets/base",
            "_view_module_version": "1.2.0",
            "_view_name": "LayoutView",
            "align_content": null,
            "align_items": null,
            "align_self": null,
            "border": null,
            "bottom": null,
            "display": null,
            "flex": null,
            "flex_flow": null,
            "grid_area": null,
            "grid_auto_columns": null,
            "grid_auto_flow": null,
            "grid_auto_rows": null,
            "grid_column": null,
            "grid_gap": null,
            "grid_row": null,
            "grid_template_areas": null,
            "grid_template_columns": null,
            "grid_template_rows": null,
            "height": null,
            "justify_content": null,
            "justify_items": null,
            "left": null,
            "margin": null,
            "max_height": null,
            "max_width": null,
            "min_height": null,
            "min_width": null,
            "object_fit": null,
            "object_position": null,
            "order": null,
            "overflow": null,
            "overflow_x": null,
            "overflow_y": null,
            "padding": null,
            "right": null,
            "top": null,
            "visibility": null,
            "width": null
          }
        },
        "16427ae152fe4a119c059405249d2591": {
          "model_module": "@jupyter-widgets/controls",
          "model_module_version": "1.5.0",
          "model_name": "HTMLModel",
          "state": {
            "_dom_classes": [],
            "_model_module": "@jupyter-widgets/controls",
            "_model_module_version": "1.5.0",
            "_model_name": "HTMLModel",
            "_view_count": null,
            "_view_module": "@jupyter-widgets/controls",
            "_view_module_version": "1.5.0",
            "_view_name": "HTMLView",
            "description": "",
            "description_tooltip": null,
            "layout": "IPY_MODEL_68e7cb5b32e74bdbbafc7a067c3750f0",
            "placeholder": "​",
            "style": "IPY_MODEL_b493377e07274a3aaa45fb26d950adfa",
            "value": " 20.4M/20.4M [00:00&lt;00:00, 42.9MB/s]"
          }
        },
        "254c29e09fb446cbae51977bd88b0a20": {
          "model_module": "@jupyter-widgets/controls",
          "model_module_version": "1.5.0",
          "model_name": "FloatProgressModel",
          "state": {
            "_dom_classes": [],
            "_model_module": "@jupyter-widgets/controls",
            "_model_module_version": "1.5.0",
            "_model_name": "FloatProgressModel",
            "_view_count": null,
            "_view_module": "@jupyter-widgets/controls",
            "_view_module_version": "1.5.0",
            "_view_name": "ProgressView",
            "bar_style": "success",
            "description": "",
            "description_tooltip": null,
            "layout": "IPY_MODEL_cc7197dc47264b6e81b9e06397f02a6d",
            "max": 21388428,
            "min": 0,
            "orientation": "horizontal",
            "style": "IPY_MODEL_0c7056944087454e89f2d3106f6afe50",
            "value": 21388428
          }
        },
        "2e0c01e761a94c21a7b71780471313fd": {
          "model_module": "@jupyter-widgets/controls",
          "model_module_version": "1.5.0",
          "model_name": "HBoxModel",
          "state": {
            "_dom_classes": [],
            "_model_module": "@jupyter-widgets/controls",
            "_model_module_version": "1.5.0",
            "_model_name": "HBoxModel",
            "_view_count": null,
            "_view_module": "@jupyter-widgets/controls",
            "_view_module_version": "1.5.0",
            "_view_name": "HBoxView",
            "box_style": "",
            "children": [
              "IPY_MODEL_3ee5a92770f9489dae7fd9f16af9f1ab",
              "IPY_MODEL_254c29e09fb446cbae51977bd88b0a20",
              "IPY_MODEL_16427ae152fe4a119c059405249d2591"
            ],
            "layout": "IPY_MODEL_9878db3bbda34b54b378a27c4b339701"
          }
        },
        "33c3ef2bbc9a4b7bb0c8aa162abc5eef": {
          "model_module": "@jupyter-widgets/base",
          "model_module_version": "1.2.0",
          "model_name": "LayoutModel",
          "state": {
            "_model_module": "@jupyter-widgets/base",
            "_model_module_version": "1.2.0",
            "_model_name": "LayoutModel",
            "_view_count": null,
            "_view_module": "@jupyter-widgets/base",
            "_view_module_version": "1.2.0",
            "_view_name": "LayoutView",
            "align_content": null,
            "align_items": null,
            "align_self": null,
            "border": null,
            "bottom": null,
            "display": null,
            "flex": null,
            "flex_flow": null,
            "grid_area": null,
            "grid_auto_columns": null,
            "grid_auto_flow": null,
            "grid_auto_rows": null,
            "grid_column": null,
            "grid_gap": null,
            "grid_row": null,
            "grid_template_areas": null,
            "grid_template_columns": null,
            "grid_template_rows": null,
            "height": null,
            "justify_content": null,
            "justify_items": null,
            "left": null,
            "margin": null,
            "max_height": null,
            "max_width": null,
            "min_height": null,
            "min_width": null,
            "object_fit": null,
            "object_position": null,
            "order": null,
            "overflow": null,
            "overflow_x": null,
            "overflow_y": null,
            "padding": null,
            "right": null,
            "top": null,
            "visibility": null,
            "width": null
          }
        },
        "3468b8bbc8f04d4fbec61ba9fd3fa65f": {
          "model_module": "@jupyter-widgets/controls",
          "model_module_version": "1.5.0",
          "model_name": "HBoxModel",
          "state": {
            "_dom_classes": [],
            "_model_module": "@jupyter-widgets/controls",
            "_model_module_version": "1.5.0",
            "_model_name": "HBoxModel",
            "_view_count": null,
            "_view_module": "@jupyter-widgets/controls",
            "_view_module_version": "1.5.0",
            "_view_name": "HBoxView",
            "box_style": "",
            "children": [
              "IPY_MODEL_649960f5c43040a58e71417bedb01c2f",
              "IPY_MODEL_bf8e21fd939144a0bac839138286ef55",
              "IPY_MODEL_bc2142153b1a4d12855a7392ca41f306"
            ],
            "layout": "IPY_MODEL_155070542b904bf4b1aea4ee4888bfa0"
          }
        },
        "3ee5a92770f9489dae7fd9f16af9f1ab": {
          "model_module": "@jupyter-widgets/controls",
          "model_module_version": "1.5.0",
          "model_name": "HTMLModel",
          "state": {
            "_dom_classes": [],
            "_model_module": "@jupyter-widgets/controls",
            "_model_module_version": "1.5.0",
            "_model_name": "HTMLModel",
            "_view_count": null,
            "_view_module": "@jupyter-widgets/controls",
            "_view_module_version": "1.5.0",
            "_view_name": "HTMLView",
            "description": "",
            "description_tooltip": null,
            "layout": "IPY_MODEL_e1b50129a0d4495cb6818c28a8bd9ca9",
            "placeholder": "​",
            "style": "IPY_MODEL_868c4a71b4c44fb099bf23354bb8c41a",
            "value": "100%"
          }
        },
        "649960f5c43040a58e71417bedb01c2f": {
          "model_module": "@jupyter-widgets/controls",
          "model_module_version": "1.5.0",
          "model_name": "HTMLModel",
          "state": {
            "_dom_classes": [],
            "_model_module": "@jupyter-widgets/controls",
            "_model_module_version": "1.5.0",
            "_model_name": "HTMLModel",
            "_view_count": null,
            "_view_module": "@jupyter-widgets/controls",
            "_view_module_version": "1.5.0",
            "_view_name": "HTMLView",
            "description": "",
            "description_tooltip": null,
            "layout": "IPY_MODEL_cab337cc63f04e5f80a35c169b659256",
            "placeholder": "​",
            "style": "IPY_MODEL_e6a07ff24b7f45a6a5caabd90d3ed244",
            "value": "Finding best initial lr: 100%"
          }
        },
        "68e7cb5b32e74bdbbafc7a067c3750f0": {
          "model_module": "@jupyter-widgets/base",
          "model_module_version": "1.2.0",
          "model_name": "LayoutModel",
          "state": {
            "_model_module": "@jupyter-widgets/base",
            "_model_module_version": "1.2.0",
            "_model_name": "LayoutModel",
            "_view_count": null,
            "_view_module": "@jupyter-widgets/base",
            "_view_module_version": "1.2.0",
            "_view_name": "LayoutView",
            "align_content": null,
            "align_items": null,
            "align_self": null,
            "border": null,
            "bottom": null,
            "display": null,
            "flex": null,
            "flex_flow": null,
            "grid_area": null,
            "grid_auto_columns": null,
            "grid_auto_flow": null,
            "grid_auto_rows": null,
            "grid_column": null,
            "grid_gap": null,
            "grid_row": null,
            "grid_template_areas": null,
            "grid_template_columns": null,
            "grid_template_rows": null,
            "height": null,
            "justify_content": null,
            "justify_items": null,
            "left": null,
            "margin": null,
            "max_height": null,
            "max_width": null,
            "min_height": null,
            "min_width": null,
            "object_fit": null,
            "object_position": null,
            "order": null,
            "overflow": null,
            "overflow_x": null,
            "overflow_y": null,
            "padding": null,
            "right": null,
            "top": null,
            "visibility": null,
            "width": null
          }
        },
        "868c4a71b4c44fb099bf23354bb8c41a": {
          "model_module": "@jupyter-widgets/controls",
          "model_module_version": "1.5.0",
          "model_name": "DescriptionStyleModel",
          "state": {
            "_model_module": "@jupyter-widgets/controls",
            "_model_module_version": "1.5.0",
            "_model_name": "DescriptionStyleModel",
            "_view_count": null,
            "_view_module": "@jupyter-widgets/base",
            "_view_module_version": "1.2.0",
            "_view_name": "StyleView",
            "description_width": ""
          }
        },
        "9878db3bbda34b54b378a27c4b339701": {
          "model_module": "@jupyter-widgets/base",
          "model_module_version": "1.2.0",
          "model_name": "LayoutModel",
          "state": {
            "_model_module": "@jupyter-widgets/base",
            "_model_module_version": "1.2.0",
            "_model_name": "LayoutModel",
            "_view_count": null,
            "_view_module": "@jupyter-widgets/base",
            "_view_module_version": "1.2.0",
            "_view_name": "LayoutView",
            "align_content": null,
            "align_items": null,
            "align_self": null,
            "border": null,
            "bottom": null,
            "display": null,
            "flex": null,
            "flex_flow": null,
            "grid_area": null,
            "grid_auto_columns": null,
            "grid_auto_flow": null,
            "grid_auto_rows": null,
            "grid_column": null,
            "grid_gap": null,
            "grid_row": null,
            "grid_template_areas": null,
            "grid_template_columns": null,
            "grid_template_rows": null,
            "height": null,
            "justify_content": null,
            "justify_items": null,
            "left": null,
            "margin": null,
            "max_height": null,
            "max_width": null,
            "min_height": null,
            "min_width": null,
            "object_fit": null,
            "object_position": null,
            "order": null,
            "overflow": null,
            "overflow_x": null,
            "overflow_y": null,
            "padding": null,
            "right": null,
            "top": null,
            "visibility": null,
            "width": null
          }
        },
        "b2de79b7fc3d499887607d04ff1f4c98": {
          "model_module": "@jupyter-widgets/base",
          "model_module_version": "1.2.0",
          "model_name": "LayoutModel",
          "state": {
            "_model_module": "@jupyter-widgets/base",
            "_model_module_version": "1.2.0",
            "_model_name": "LayoutModel",
            "_view_count": null,
            "_view_module": "@jupyter-widgets/base",
            "_view_module_version": "1.2.0",
            "_view_name": "LayoutView",
            "align_content": null,
            "align_items": null,
            "align_self": null,
            "border": null,
            "bottom": null,
            "display": null,
            "flex": null,
            "flex_flow": null,
            "grid_area": null,
            "grid_auto_columns": null,
            "grid_auto_flow": null,
            "grid_auto_rows": null,
            "grid_column": null,
            "grid_gap": null,
            "grid_row": null,
            "grid_template_areas": null,
            "grid_template_columns": null,
            "grid_template_rows": null,
            "height": null,
            "justify_content": null,
            "justify_items": null,
            "left": null,
            "margin": null,
            "max_height": null,
            "max_width": null,
            "min_height": null,
            "min_width": null,
            "object_fit": null,
            "object_position": null,
            "order": null,
            "overflow": null,
            "overflow_x": null,
            "overflow_y": null,
            "padding": null,
            "right": null,
            "top": null,
            "visibility": null,
            "width": null
          }
        },
        "b493377e07274a3aaa45fb26d950adfa": {
          "model_module": "@jupyter-widgets/controls",
          "model_module_version": "1.5.0",
          "model_name": "DescriptionStyleModel",
          "state": {
            "_model_module": "@jupyter-widgets/controls",
            "_model_module_version": "1.5.0",
            "_model_name": "DescriptionStyleModel",
            "_view_count": null,
            "_view_module": "@jupyter-widgets/base",
            "_view_module_version": "1.2.0",
            "_view_name": "StyleView",
            "description_width": ""
          }
        },
        "bc2142153b1a4d12855a7392ca41f306": {
          "model_module": "@jupyter-widgets/controls",
          "model_module_version": "1.5.0",
          "model_name": "HTMLModel",
          "state": {
            "_dom_classes": [],
            "_model_module": "@jupyter-widgets/controls",
            "_model_module_version": "1.5.0",
            "_model_name": "HTMLModel",
            "_view_count": null,
            "_view_module": "@jupyter-widgets/controls",
            "_view_module_version": "1.5.0",
            "_view_name": "HTMLView",
            "description": "",
            "description_tooltip": null,
            "layout": "IPY_MODEL_33c3ef2bbc9a4b7bb0c8aa162abc5eef",
            "placeholder": "​",
            "style": "IPY_MODEL_d6525000ed1143f88c1b07fd5e74ed5a",
            "value": " 100/100 [02:50&lt;00:00,  1.22it/s]"
          }
        },
        "bf8e21fd939144a0bac839138286ef55": {
          "model_module": "@jupyter-widgets/controls",
          "model_module_version": "1.5.0",
          "model_name": "FloatProgressModel",
          "state": {
            "_dom_classes": [],
            "_model_module": "@jupyter-widgets/controls",
            "_model_module_version": "1.5.0",
            "_model_name": "FloatProgressModel",
            "_view_count": null,
            "_view_module": "@jupyter-widgets/controls",
            "_view_module_version": "1.5.0",
            "_view_name": "ProgressView",
            "bar_style": "success",
            "description": "",
            "description_tooltip": null,
            "layout": "IPY_MODEL_b2de79b7fc3d499887607d04ff1f4c98",
            "max": 100,
            "min": 0,
            "orientation": "horizontal",
            "style": "IPY_MODEL_cc34f5d76d9a4ab29a3dc527f4adb08e",
            "value": 100
          }
        },
        "cab337cc63f04e5f80a35c169b659256": {
          "model_module": "@jupyter-widgets/base",
          "model_module_version": "1.2.0",
          "model_name": "LayoutModel",
          "state": {
            "_model_module": "@jupyter-widgets/base",
            "_model_module_version": "1.2.0",
            "_model_name": "LayoutModel",
            "_view_count": null,
            "_view_module": "@jupyter-widgets/base",
            "_view_module_version": "1.2.0",
            "_view_name": "LayoutView",
            "align_content": null,
            "align_items": null,
            "align_self": null,
            "border": null,
            "bottom": null,
            "display": null,
            "flex": null,
            "flex_flow": null,
            "grid_area": null,
            "grid_auto_columns": null,
            "grid_auto_flow": null,
            "grid_auto_rows": null,
            "grid_column": null,
            "grid_gap": null,
            "grid_row": null,
            "grid_template_areas": null,
            "grid_template_columns": null,
            "grid_template_rows": null,
            "height": null,
            "justify_content": null,
            "justify_items": null,
            "left": null,
            "margin": null,
            "max_height": null,
            "max_width": null,
            "min_height": null,
            "min_width": null,
            "object_fit": null,
            "object_position": null,
            "order": null,
            "overflow": null,
            "overflow_x": null,
            "overflow_y": null,
            "padding": null,
            "right": null,
            "top": null,
            "visibility": null,
            "width": null
          }
        },
        "cc34f5d76d9a4ab29a3dc527f4adb08e": {
          "model_module": "@jupyter-widgets/controls",
          "model_module_version": "1.5.0",
          "model_name": "ProgressStyleModel",
          "state": {
            "_model_module": "@jupyter-widgets/controls",
            "_model_module_version": "1.5.0",
            "_model_name": "ProgressStyleModel",
            "_view_count": null,
            "_view_module": "@jupyter-widgets/base",
            "_view_module_version": "1.2.0",
            "_view_name": "StyleView",
            "bar_color": null,
            "description_width": ""
          }
        },
        "cc7197dc47264b6e81b9e06397f02a6d": {
          "model_module": "@jupyter-widgets/base",
          "model_module_version": "1.2.0",
          "model_name": "LayoutModel",
          "state": {
            "_model_module": "@jupyter-widgets/base",
            "_model_module_version": "1.2.0",
            "_model_name": "LayoutModel",
            "_view_count": null,
            "_view_module": "@jupyter-widgets/base",
            "_view_module_version": "1.2.0",
            "_view_name": "LayoutView",
            "align_content": null,
            "align_items": null,
            "align_self": null,
            "border": null,
            "bottom": null,
            "display": null,
            "flex": null,
            "flex_flow": null,
            "grid_area": null,
            "grid_auto_columns": null,
            "grid_auto_flow": null,
            "grid_auto_rows": null,
            "grid_column": null,
            "grid_gap": null,
            "grid_row": null,
            "grid_template_areas": null,
            "grid_template_columns": null,
            "grid_template_rows": null,
            "height": null,
            "justify_content": null,
            "justify_items": null,
            "left": null,
            "margin": null,
            "max_height": null,
            "max_width": null,
            "min_height": null,
            "min_width": null,
            "object_fit": null,
            "object_position": null,
            "order": null,
            "overflow": null,
            "overflow_x": null,
            "overflow_y": null,
            "padding": null,
            "right": null,
            "top": null,
            "visibility": null,
            "width": null
          }
        },
        "d6525000ed1143f88c1b07fd5e74ed5a": {
          "model_module": "@jupyter-widgets/controls",
          "model_module_version": "1.5.0",
          "model_name": "DescriptionStyleModel",
          "state": {
            "_model_module": "@jupyter-widgets/controls",
            "_model_module_version": "1.5.0",
            "_model_name": "DescriptionStyleModel",
            "_view_count": null,
            "_view_module": "@jupyter-widgets/base",
            "_view_module_version": "1.2.0",
            "_view_name": "StyleView",
            "description_width": ""
          }
        },
        "e1b50129a0d4495cb6818c28a8bd9ca9": {
          "model_module": "@jupyter-widgets/base",
          "model_module_version": "1.2.0",
          "model_name": "LayoutModel",
          "state": {
            "_model_module": "@jupyter-widgets/base",
            "_model_module_version": "1.2.0",
            "_model_name": "LayoutModel",
            "_view_count": null,
            "_view_module": "@jupyter-widgets/base",
            "_view_module_version": "1.2.0",
            "_view_name": "LayoutView",
            "align_content": null,
            "align_items": null,
            "align_self": null,
            "border": null,
            "bottom": null,
            "display": null,
            "flex": null,
            "flex_flow": null,
            "grid_area": null,
            "grid_auto_columns": null,
            "grid_auto_flow": null,
            "grid_auto_rows": null,
            "grid_column": null,
            "grid_gap": null,
            "grid_row": null,
            "grid_template_areas": null,
            "grid_template_columns": null,
            "grid_template_rows": null,
            "height": null,
            "justify_content": null,
            "justify_items": null,
            "left": null,
            "margin": null,
            "max_height": null,
            "max_width": null,
            "min_height": null,
            "min_width": null,
            "object_fit": null,
            "object_position": null,
            "order": null,
            "overflow": null,
            "overflow_x": null,
            "overflow_y": null,
            "padding": null,
            "right": null,
            "top": null,
            "visibility": null,
            "width": null
          }
        },
        "e6a07ff24b7f45a6a5caabd90d3ed244": {
          "model_module": "@jupyter-widgets/controls",
          "model_module_version": "1.5.0",
          "model_name": "DescriptionStyleModel",
          "state": {
            "_model_module": "@jupyter-widgets/controls",
            "_model_module_version": "1.5.0",
            "_model_name": "DescriptionStyleModel",
            "_view_count": null,
            "_view_module": "@jupyter-widgets/base",
            "_view_module_version": "1.2.0",
            "_view_name": "StyleView",
            "description_width": ""
          }
        }
      }
    }
  },
  "nbformat": 4,
  "nbformat_minor": 0
}
