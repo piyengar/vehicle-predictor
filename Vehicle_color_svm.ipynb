{
 "cells": [
  {
   "cell_type": "markdown",
   "metadata": {
    "colab_type": "text",
    "id": "view-in-github"
   },
   "source": [
    "<a href=\"https://colab.research.google.com/github/piyengar/vehicle-predictor/blob/master/Vehicle_color_trainer.ipynb\" target=\"_parent\"><img src=\"https://colab.research.google.com/assets/colab-badge.svg\" alt=\"Open In Colab\"/></a>"
   ]
  },
  {
   "cell_type": "markdown",
   "metadata": {},
   "source": [
    "## Colab specific\n",
    "- Install additional libraries\n",
    "- Setup integration with google drive\n",
    "    - Needs these paths: mount point, Dataset storage path, checkpoint storage path\n",
    "- Setup content folder as git repo and pull codebase from github\n",
    "    - This can be done by installing github cli and triggering authentication on browser(TBD)\n",
    "    - for now we can manually set it up\n"
   ]
  },
  {
   "cell_type": "code",
   "execution_count": null,
   "metadata": {
    "id": "aRkukncpGIsZ"
   },
   "outputs": [],
   "source": [
    "%%capture\n",
    "! pip install pytorch-lightning\n",
    "! pip install pytorch-lightning-bolts\n",
    "! pip install ipywidgets\n",
    "! pip install torchmetrics\n",
    "! pip install efficientnet_pytorch\n"
   ]
  },
  {
   "cell_type": "code",
   "execution_count": null,
   "metadata": {
    "id": "Y0Z67aLzGgB_"
   },
   "outputs": [],
   "source": [
    "\n",
    "# GITHUB_PAT_PATH=os.path.join(STORAGE_ROOT, 'MyDrive/Gatech/github_pat_colab.txt')\n",
    "\n",
    "# with open(GITHUB_PAT_PATH) as reader:\n",
    "#     GITHUB_PAT = reader.readline()\n"
   ]
  },
  {
   "cell_type": "code",
   "execution_count": null,
   "metadata": {
    "colab": {
     "base_uri": "https://localhost:8080/"
    },
    "id": "o2LEmL4hGhea",
    "outputId": "264a2fab-1501-409f-e52a-594299d70e18"
   },
   "outputs": [],
   "source": [
    "import os\n",
    "# Path constants\n",
    "STORAGE_ROOT='/content/drive'\n",
    "CHECKPOINT_ROOT=os.path.join(STORAGE_ROOT, 'MyDrive/Gatech/CARZAM/checkpoints/color')\n",
    "PREDICTION_ROOT=os.path.join(STORAGE_ROOT, 'MyDrive/Gatech/CARZAM/predictions/color')\n",
    "DATASET_ROOT=os.path.join(STORAGE_ROOT, 'MyDrive/Gatech/CARZAM/Datasets')\n",
    "\n",
    "from google.colab import drive\n",
    "drive.mount(STORAGE_ROOT)\n",
    "!mkdir -p \"{CHECKPOINT_ROOT}\"\n",
    "!mkdir -p \"{PREDICTION_ROOT}\"\n",
    "!ln -s \"{CHECKPOINT_ROOT}\" checkpoints/\n",
    "!ln -s \"{PREDICTION_ROOT}\" predictions/\n"
   ]
  },
  {
   "cell_type": "markdown",
   "metadata": {},
   "source": [
    "### Setup up codebase from github -- (TBD)"
   ]
  },
  {
   "cell_type": "code",
   "execution_count": null,
   "metadata": {
    "colab": {
     "base_uri": "https://localhost:8080/"
    },
    "id": "3kjW3B5iGml7",
    "outputId": "f08c720c-32cb-4a9d-b4c1-a6b2d8be3600"
   },
   "outputs": [],
   "source": [
    "!git clone \"https://{GITHUB_PAT}@github.com/piyengar/vehicle-predictor.git\" ./code"
   ]
  },
  {
   "cell_type": "markdown",
   "metadata": {},
   "source": [
    "## Predict vehicle colors using SVM"
   ]
  },
  {
   "cell_type": "code",
   "execution_count": 1,
   "metadata": {},
   "outputs": [],
   "source": [
    "# Imports\n",
    "import numpy as np\n",
    "from tqdm.notebook import tqdm\n",
    "from time import sleep\n",
    "from sklearn.linear_model import SGDClassifier\n",
    "from color.dataset import VeriDataset\n",
    "from color import ColorDataModule, valid_archs, ColorPredictionWriter"
   ]
  },
  {
   "cell_type": "code",
   "execution_count": 2,
   "metadata": {
    "id": "D56zfDySJbb7"
   },
   "outputs": [],
   "source": [
    "# one of : VRIC, Cars196, VehicleID, BoxCars116k, CompCars, Veri, Combined\n",
    "train_dataset_name = 'Veri'\n",
    "\n",
    "# Learning rate/eta0\n",
    "lr=0.02\n",
    "batch_size=128\n",
    "max_epochs=10"
   ]
  },
  {
   "cell_type": "code",
   "execution_count": null,
   "metadata": {},
   "outputs": [],
   "source": [
    "allowed_color_list = [\n",
    "                    'black',\n",
    "                    'white',\n",
    "                    'red',\n",
    "                    'yellow',\n",
    "                    'blue',\n",
    "                    'gray'\n",
    "]\n",
    "model = SGDClassifier(learning_rate='constant', eta0=lr)\n",
    "# init datamodule\n",
    "dm = ColorDataModule(\n",
    "    dataset_name=train_dataset_name, \n",
    "    data_dir=\"dataset\", \n",
    "    batch_size=batch_size,\n",
    "    allowed_color_list=allowed_color_list\n",
    ")\n",
    "dm.setup('fit')\n",
    "train_dataloader = dm.train_dataloader()\n",
    "val_dataloader = dm.val_dataloader()\n",
    "classes = [i for i in range(len(allowed_color_list))]\n",
    "for epoch in range(max_epochs):\n",
    "    # Train\n",
    "    stats = {'accuracy':0.0}\n",
    "    batches = tqdm(enumerate(train_dataloader), total=len(train_dataloader), postfix=stats)\n",
    "    batches.set_description('Training')\n",
    "    accs = []\n",
    "    for mini_batch_idx, (x,_, y) in batches:\n",
    "        n = len(x)\n",
    "        x = x.view(n, -1).numpy()\n",
    "        y = y.numpy()\n",
    "        model.partial_fit(x, y, classes)\n",
    "        accs.append(model.score(x, y))\n",
    "        stats['accuracy'] = np.mean(accs)\n",
    "        batches.set_postfix(stats)\n",
    "        \n",
    "    # Validate\n",
    "    stats = {'accuracy':0.0}\n",
    "    batches = tqdm(enumerate(val_dataloader), total=len(val_dataloader), postfix=stats)\n",
    "    batches.set_description('Validating')\n",
    "    accs = []\n",
    "    for mini_batch_idx, (x,_, y) in batches:\n",
    "        n = len(x)\n",
    "        x = x.view(n, -1).numpy()\n",
    "        y = y.numpy()\n",
    "        accs.append(model.score(x, y))\n",
    "        stats['accuracy'] = np.mean(accs)\n",
    "        batches.set_postfix(stats)\n",
    "    \n"
   ]
  },
  {
   "cell_type": "code",
   "execution_count": null,
   "metadata": {},
   "outputs": [],
   "source": []
  }
 ],
 "metadata": {
  "colab": {
   "authorship_tag": "ABX9TyNp/MnjcrPH3pL4/dArLBGA",
   "include_colab_link": true,
   "name": "Vehicle_color_trainer.ipynb",
   "provenance": []
  },
  "interpreter": {
   "hash": "0a554c0e145a35c7d0ebd70a6ba3916e23642ecf3117e3b0a26312e14c57dfaa"
  },
  "kernelspec": {
   "display_name": "Python 3",
   "language": "python",
   "name": "python3"
  },
  "language_info": {
   "codemirror_mode": {
    "name": "ipython",
    "version": 3
   },
   "file_extension": ".py",
   "mimetype": "text/x-python",
   "name": "python",
   "nbconvert_exporter": "python",
   "pygments_lexer": "ipython3",
   "version": "3.8.8"
  }
 },
 "nbformat": 4,
 "nbformat_minor": 1
}
